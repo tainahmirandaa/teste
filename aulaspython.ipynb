{
  "nbformat": 4,
  "nbformat_minor": 0,
  "metadata": {
    "colab": {
      "provenance": [],
      "authorship_tag": "ABX9TyN6cV1SJ78DaqTODiIl9cX4",
      "include_colab_link": true
    },
    "kernelspec": {
      "name": "python3",
      "display_name": "Python 3"
    },
    "language_info": {
      "name": "python"
    }
  },
  "cells": [
    {
      "cell_type": "markdown",
      "metadata": {
        "id": "view-in-github",
        "colab_type": "text"
      },
      "source": [
        "<a href=\"https://colab.research.google.com/github/tainahmirandaa/teste/blob/main/aulaspython.ipynb\" target=\"_parent\"><img src=\"https://colab.research.google.com/assets/colab-badge.svg\" alt=\"Open In Colab\"/></a>"
      ]
    },
    {
      "cell_type": "code",
      "source": [
        "n = int(input('Digite um número: '))\n",
        "print('O dobro de {} vale {}.\\nO triplo de {} vale {}.\\nA raiz quadrada de {} é igual a {:.2f}' .format(n, (n*2), n, (n*3), n, (n**(1/2))))"
      ],
      "metadata": {
        "id": "K0Q5uMK5-2LD",
        "colab": {
          "base_uri": "https://localhost:8080/"
        },
        "outputId": "c4bf3b53-75c9-4a9a-9ab3-37d1b56ac338"
      },
      "execution_count": 8,
      "outputs": [
        {
          "output_type": "stream",
          "name": "stdout",
          "text": [
            "Digite um número: 85\n",
            "O dobro de 85 vale 170.\n",
            "O triplo de 85 vale 255.\n",
            "A raiz quadrada de 85 é igual a 9.22\n"
          ]
        }
      ]
    },
    {
      "cell_type": "code",
      "source": [
        "n1 = float(input('Primeira nota do aluno: '))\n",
        "n2 = float(input('Segunda nota do aluno: '))\n",
        "print('A média entre {: .1f} e {: .1f} é igual a {: .1f}' .format(n1, n2, ((n1 + n2) / 2)))"
      ],
      "metadata": {
        "colab": {
          "base_uri": "https://localhost:8080/"
        },
        "id": "Jhrh1xL22m6o",
        "outputId": "58edd11b-e792-4c6b-d8cb-57b37aa7a251"
      },
      "execution_count": 11,
      "outputs": [
        {
          "output_type": "stream",
          "name": "stdout",
          "text": [
            "Primeira nota do aluno: 9.5\n",
            "Segunda nota do aluno: 2.8\n",
            "A média entre  9.5 e  2.8 é igual a  6.2\n"
          ]
        }
      ]
    },
    {
      "cell_type": "code",
      "source": [
        "m = float(input('Uma distancia em metros: '))\n",
        "km = round(m/1000, 3)\n",
        "hm = round(m/100, 2)\n",
        "dam = round(m/10, 1)\n",
        "dm = round(m*10, 0)\n",
        "cm = round(m*100, 0)\n",
        "mm = round(m*1000, 0)\n",
        "print(f'A medida de {m}m corresponde a')\n",
        "print(f'{km} km')\n",
        "print(f'{hm} hm')\n",
        "print(f'{dam} dam')\n",
        "print(f'{dm} dm')\n",
        "print(f'{cm} cm')\n",
        "print(f'{mm} mm')\n",
        "\n",
        "\n",
        "\n",
        "\n",
        "# print(f'A medida de {m:.1f} corresponde a \\n{(m/1000):.3f}km \\n{(m/100):.2}hm \\n{(m/10):.1f}dam \\n{(m*10):.0f}dm \\n{(m*100):.0f}cm \\n{(m*1000):.0f}mm') #.format(m, (m/1000), (m/100), (m/10), )"
      ],
      "metadata": {
        "colab": {
          "base_uri": "https://localhost:8080/"
        },
        "id": "0JT8r-DH5jIV",
        "outputId": "6bcb5dc4-0ec3-4bae-e9b2-0a5d48a3763d"
      },
      "execution_count": 24,
      "outputs": [
        {
          "output_type": "stream",
          "name": "stdout",
          "text": [
            "Uma distancia em metros: 5\n",
            "A medida de 5.0m corresponde a\n",
            "0.005 km\n",
            "0.05 hm\n",
            "0.5 dam\n",
            "50.0 dm\n",
            "500.0 cm\n",
            "5000.0 mm\n"
          ]
        }
      ]
    },
    {
      "cell_type": "code",
      "source": [
        "n = int(input('Digite um número para ver sua tabuada: '))\n",
        "print(f'{n} x 1 = {n*1} \\n{n} x 2 = {n*2} \\n{n} x 3 = {n*3} \\n{n} x 4 = {n*4}\\n{n} x 5 = {n*5}\\n{n} x 6 = {n*6}\\n{n} x 7 = {n*7}\\n{n} x 8 = {n*8}\\n{n} x 9 = {n*9}\\n{n} x 10 = {n*10}\\n')"
      ],
      "metadata": {
        "colab": {
          "base_uri": "https://localhost:8080/"
        },
        "id": "KHbCYeBm_QZ-",
        "outputId": "13ab2ed2-3b14-4817-dd5c-526961c75426"
      },
      "execution_count": 15,
      "outputs": [
        {
          "output_type": "stream",
          "name": "stdout",
          "text": [
            "Digite um número para ver sua tabuada: 6\n",
            "6 x 1 = 6 \n",
            "6 x 2 = 12 \n",
            "6 x 3 = 18 \n",
            "6 x 4 = 24\n",
            "6 x 5 = 30\n",
            "6 x 6 = 36\n",
            "6 x 7 = 42\n",
            "6 x 8 = 48\n",
            "6 x 9 = 54\n",
            "6 x 10 = 60\n",
            "\n"
          ]
        }
      ]
    },
    {
      "cell_type": "code",
      "source": [
        "n = float(input('Quanto dinheiro você tem na carteira: R$'))\n",
        "print(f'Com R${n} você pode comprar US${n/5.15:.2f}')"
      ],
      "metadata": {
        "colab": {
          "base_uri": "https://localhost:8080/"
        },
        "id": "jAXkjvv2BCJ2",
        "outputId": "7c1153fd-fc38-45bc-e7a9-8fb34b977aff"
      },
      "execution_count": 18,
      "outputs": [
        {
          "output_type": "stream",
          "name": "stdout",
          "text": [
            "Quanto dinheiro você tem na carteira: R$20\n",
            "Com R$20.0 você pode comprar US$3.88\n"
          ]
        }
      ]
    },
    {
      "cell_type": "code",
      "source": [
        "largura = float(input('Largura da parede: '))\n",
        "altura = float(input('Altura da parede: '))\n",
        "area = largura * altura\n",
        "litrostinta = area / 2\n",
        "print(f'Sua parede tem a dimensão de {largura}x{altura} e sua área é de {area}m².')\n",
        "print(f'Para pintar essa parede, você precisará de {litrostinta}l de tinta.')"
      ],
      "metadata": {
        "colab": {
          "base_uri": "https://localhost:8080/"
        },
        "id": "OpebwuqXF4zB",
        "outputId": "7aa0ea1d-bbf6-4c1b-f911-45cc272da190"
      },
      "execution_count": 31,
      "outputs": [
        {
          "output_type": "stream",
          "name": "stdout",
          "text": [
            "Largura da parede: 5\n",
            "Altura da parede: 5\n",
            "Sua parede tem a dimensão de 5.0x5.0 e sua área é de 25.0m².\n",
            "Para pintar essa parede, você precisará de 12.5l de tinta.\n"
          ]
        }
      ]
    },
    {
      "cell_type": "code",
      "source": [
        "valor = float(input('Qual o valor do produto? R$'))\n",
        "valordesconto = valor * 0.95\n",
        "print(f'O produto que custava R${valor}, na promoção com desconto de 5% vai custar R${valordesconto:.2f}.')"
      ],
      "metadata": {
        "colab": {
          "base_uri": "https://localhost:8080/"
        },
        "id": "AY764Ly0G25I",
        "outputId": "54634cec-7267-4060-b0f0-348a8ad68ce5"
      },
      "execution_count": 33,
      "outputs": [
        {
          "output_type": "stream",
          "name": "stdout",
          "text": [
            "Qual o valor do produto? R$123.95\n",
            "O produto que custava R$123.95, na promoção com desconto de 5% vai custar R$117.75.\n"
          ]
        }
      ]
    },
    {
      "cell_type": "code",
      "source": [
        "salario = float(input('Qual o salário do funcionário? R$'))\n",
        "aumento = salario * 1.15\n",
        "print(f'Um funcionário que ganhava R${salario}, com 15% de aumento, passa a receber R${aumento:.2f}.')"
      ],
      "metadata": {
        "colab": {
          "base_uri": "https://localhost:8080/"
        },
        "id": "CgntasacIqbo",
        "outputId": "f1e56358-2c30-4298-a04c-6f294bdeb142"
      },
      "execution_count": 34,
      "outputs": [
        {
          "output_type": "stream",
          "name": "stdout",
          "text": [
            "Qual o salário do funcionário? R$4319.43\n",
            "Um funcionário que ganhava R$4319.43, com 15% de aumento, passa a receber R$4967.34.\n"
          ]
        }
      ]
    },
    {
      "cell_type": "code",
      "source": [],
      "metadata": {
        "id": "IfGa-qyyJZYm"
      },
      "execution_count": null,
      "outputs": []
    }
  ]
}